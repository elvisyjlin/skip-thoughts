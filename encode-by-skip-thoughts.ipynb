{
 "cells": [
  {
   "cell_type": "code",
   "execution_count": null,
   "metadata": {},
   "outputs": [],
   "source": [
    "import numpy as np\n",
    "from skip_thoughts import configuration\n",
    "from skip_thoughts import encoder_manager"
   ]
  },
  {
   "cell_type": "code",
   "execution_count": null,
   "metadata": {},
   "outputs": [],
   "source": [
    "# Load the dataset.\n",
    "def load_data():\n",
    "    data = []\n",
    "    # TODO: Load your dataset here.\n",
    "    return data\n",
    "\n",
    "data = load_data()"
   ]
  },
  {
   "cell_type": "code",
   "execution_count": null,
   "metadata": {},
   "outputs": [],
   "source": [
    "# For the unidirectional skip thoughts\n",
    "# Set paths to the model.\n",
    "VOCAB_FILE = \"skip_thoughts/pretrained/skip_thoughts_uni_2017_02_02/vocab.txt\"\n",
    "EMBEDDING_MATRIX_FILE = \"skip_thoughts/pretrained/skip_thoughts_uni_2017_02_02/embeddings.npy\"\n",
    "CHECKPOINT_PATH = \"skip_thoughts/pretrained/skip_thoughts_uni_2017_02_02/model.ckpt-501424\"\n",
    "\n",
    "# Set up the encoder. Here we are using a single unidirectional model.\n",
    "# To use a bidirectional model as well, call load_model() again with\n",
    "# configuration.model_config(bidirectional_encoder=True) and paths to the\n",
    "# bidirectional model's files. The encoder will use the concatenation of\n",
    "# all loaded models.\n",
    "encoder = encoder_manager.EncoderManager()\n",
    "encoder.load_model(configuration.model_config(),\n",
    "                   vocabulary_file=VOCAB_FILE,\n",
    "                   embedding_matrix_file=EMBEDDING_MATRIX_FILE,\n",
    "                   checkpoint_path=CHECKPOINT_PATH)\n",
    "\n",
    "# Generate Skip-Thought Vectors for each sentence in the dataset.\n",
    "uni_encodings = encoder.encode(data)"
   ]
  },
  {
   "cell_type": "code",
   "execution_count": null,
   "metadata": {},
   "outputs": [],
   "source": [
    "# For the bidirectional skip thoughts\n",
    "# Set paths to the model.\n",
    "VOCAB_FILE = \"skip_thoughts/pretrained/skip_thoughts_bi_2017_02_16/vocab.txt\"\n",
    "EMBEDDING_MATRIX_FILE = \"skip_thoughts/pretrained/skip_thoughts_bi_2017_02_16/embeddings.npy\"\n",
    "CHECKPOINT_PATH = \"skip_thoughts/pretrained/skip_thoughts_bi_2017_02_16/model.ckpt-500008\"\n",
    "\n",
    "# Set up the encoder. Here we are using a single unidirectional model.\n",
    "# To use a bidirectional model as well, call load_model() again with\n",
    "# configuration.model_config(bidirectional_encoder=True) and paths to the\n",
    "# bidirectional model's files. The encoder will use the concatenation of\n",
    "# all loaded models.\n",
    "encoder = encoder_manager.EncoderManager()\n",
    "encoder.load_model(configuration.model_config(bidirectional_encoder=True),\n",
    "                   vocabulary_file=VOCAB_FILE,\n",
    "                   embedding_matrix_file=EMBEDDING_MATRIX_FILE,\n",
    "                   checkpoint_path=CHECKPOINT_PATH)\n",
    "\n",
    "# Generate Skip-Thought Vectors for each sentence in the dataset.\n",
    "bi_encodings = encoder.encode(data)"
   ]
  },
  {
   "cell_type": "code",
   "execution_count": null,
   "metadata": {},
   "outputs": [],
   "source": [
    "# Combine skip thoughts encodings of unidirectional model and bidirectional model together\n",
    "encodings = np.concatenate([uni_encodings, bi_encodings], axis=-1)\n",
    "encodings = np.nan_to_num(encodings)\n",
    "# Save the combined encodings to a file\n",
    "np.save('encodings.npy'), encodings)"
   ]
  }
 ],
 "metadata": {
  "kernelspec": {
   "display_name": "Python 3",
   "language": "python",
   "name": "python3"
  },
  "language_info": {
   "codemirror_mode": {
    "name": "ipython",
    "version": 3
   },
   "file_extension": ".py",
   "mimetype": "text/x-python",
   "name": "python",
   "nbconvert_exporter": "python",
   "pygments_lexer": "ipython3",
   "version": "3.5.2"
  }
 },
 "nbformat": 4,
 "nbformat_minor": 2
}
